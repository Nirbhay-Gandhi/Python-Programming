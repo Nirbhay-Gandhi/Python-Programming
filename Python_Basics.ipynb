{
  "nbformat": 4,
  "nbformat_minor": 0,
  "metadata": {
    "colab": {
      "provenance": [],
      "collapsed_sections": [
        "9iZ9b2_gokQ4",
        "0rqLGtDzEX66",
        "KZhLcYbEI2ek",
        "SvbT__r4Kd8l",
        "qa0BjObMQYg9",
        "tejp0LRo56Qc",
        "gppW3oK0ic5l",
        "c7ztUg2ywUMT",
        "MZLaeDE8iVVA"
      ],
      "authorship_tag": "ABX9TyOZCRYRenamuRaHpS9m0M20"
    },
    "kernelspec": {
      "name": "python3",
      "display_name": "Python 3"
    },
    "language_info": {
      "name": "python"
    }
  },
  "cells": [
    {
      "cell_type": "markdown",
      "source": [
        "# **Python Basics**"
      ],
      "metadata": {
        "id": "seDAXvKni-gf"
      }
    },
    {
      "cell_type": "markdown",
      "source": [
        "## **1. Quick start**"
      ],
      "metadata": {
        "id": "TAnWF3nLjS6P"
      }
    },
    {
      "cell_type": "markdown",
      "source": [
        "### 1. Variables and Data types"
      ],
      "metadata": {
        "id": "0NJZ54aMjiZe"
      }
    },
    {
      "cell_type": "code",
      "source": [
        "a = \"hello world\"\n",
        "b = 100\n",
        "c = 9.78\n",
        "\n",
        "print(a,type(a),\" - \", b, type(b), \" - \",c,type(c)) #concat using : \",\" not \"+\" unlike java"
      ],
      "metadata": {
        "colab": {
          "base_uri": "https://localhost:8080/"
        },
        "id": "7mwvzSrBj0nu",
        "outputId": "d37c283a-4931-4655-d116-ebd6bf58bb2f"
      },
      "execution_count": null,
      "outputs": [
        {
          "output_type": "stream",
          "name": "stdout",
          "text": [
            "hello world <class 'str'>  -  100 <class 'int'>  -  9.78 <class 'float'>\n"
          ]
        }
      ]
    },
    {
      "cell_type": "markdown",
      "source": [
        "### 2. Printing formatted String"
      ],
      "metadata": {
        "id": "ti2cZpazkFeF"
      }
    },
    {
      "cell_type": "code",
      "source": [
        "str = \"apple\"\n",
        "price = 100\n",
        "print(\"{} in TN is Rs{} per kilo\".format(str, price))\n",
        "print(f\"{str} in TN is Rs{price} per kilo\")\n",
        "print(anyString) #error: anyString is undefined\n",
        "\n",
        "numbers = input()\n",
        "print(type(numbers)) #this gives us string values\n",
        "\n",
        "#to convert it into individual numbers :\n",
        "#convert it into string array\n",
        "nums = numbers.split()\n",
        "print(nums)"
      ],
      "metadata": {
        "id": "tpsZ6Ky5j2KH"
      },
      "execution_count": null,
      "outputs": []
    },
    {
      "cell_type": "markdown",
      "source": [
        "### 2. Literal Constants"
      ],
      "metadata": {
        "id": "wCNcVQZWka2n"
      }
    },
    {
      "cell_type": "markdown",
      "source": [
        "- no char data type\n",
        "- Data types: int, float, str, bool, typles, sets,\n",
        " dictionaries, lists, complex"
      ],
      "metadata": {
        "id": "aAznRj3skceY"
      }
    },
    {
      "cell_type": "markdown",
      "source": [
        "### 3. operators"
      ],
      "metadata": {
        "id": "qMVbZPuwkit2"
      }
    },
    {
      "cell_type": "code",
      "source": [
        "a, b = 122, 10 #assignment optr\n",
        "print(\"add \",a+b)\n",
        "print(\"sub \",a-b)\n",
        "print(\"int div \", a//b)\n",
        "print(\"rem \",a%b)\n",
        "print(\"exponent \",type(a**b))\n",
        "print(ord(\"A\")) #prints the ascii value of characters"
      ],
      "metadata": {
        "id": "IzUCsUMkj_Yt"
      },
      "execution_count": null,
      "outputs": []
    },
    {
      "cell_type": "markdown",
      "source": [
        "### 4. logical operators"
      ],
      "metadata": {
        "id": "GiUQ9wQdmFHt"
      }
    },
    {
      "cell_type": "markdown",
      "source": [
        "booleans in python are integers\n",
        "(__obj: object, __class_or_tuple: _ClassInfo, /) -> bool\n",
        "Return whether an object is an instance of a class or of a subclass thereof."
      ],
      "metadata": {
        "id": "cfxhG-yXmCJ9"
      }
    },
    {
      "cell_type": "code",
      "source": [
        "print(isinstance(True,int))"
      ],
      "metadata": {
        "id": "g8J02X1Sj_xU"
      },
      "execution_count": null,
      "outputs": []
    },
    {
      "cell_type": "markdown",
      "source": [
        "### 5. Conditional operators"
      ],
      "metadata": {
        "id": "9HyHN_EWmNL6"
      }
    },
    {
      "cell_type": "code",
      "source": [
        "a = 19\n",
        "if a>0:\n",
        "    print(\"a is positive\")\n",
        "    if a > 10:\n",
        "        print(\"a > 10\")\n",
        "    else:\n",
        "        print(\"a<10\")\n",
        "elif a == 0:\n",
        "    print(\"a is zero\")\n",
        "else:\n",
        "    print(\"a is negetive\")"
      ],
      "metadata": {
        "id": "u_1rYqCokAAr"
      },
      "execution_count": null,
      "outputs": []
    },
    {
      "cell_type": "markdown",
      "source": [
        "### 6. looping statements"
      ],
      "metadata": {
        "id": "ceDOLqWcmWUr"
      }
    },
    {
      "cell_type": "code",
      "source": [
        "loopvar = 10\n",
        "#while\n",
        "while loopvar:\n",
        "    print(loopvar)\n",
        "    loopvar-=1"
      ],
      "metadata": {
        "id": "FKQ_m81xkAPT"
      },
      "execution_count": null,
      "outputs": []
    },
    {
      "cell_type": "code",
      "source": [
        "#for\n",
        "#for <iterator> in <iterable> :\n",
        "for i in [1,2,3,4,5]:\n",
        "    i+=10\n",
        "    print(i)\n",
        "\n",
        "for s in \"python\":\n",
        "    s+='10'\n",
        "    print(s)"
      ],
      "metadata": {
        "id": "tzjSut-okAcM"
      },
      "execution_count": null,
      "outputs": []
    },
    {
      "cell_type": "markdown",
      "source": [
        "### 7. Range function"
      ],
      "metadata": {
        "id": "BRDBa2_Jmgs7"
      }
    },
    {
      "cell_type": "markdown",
      "source": [
        "range([start], stop, [step_size]) -> object{ [start,stop) }"
      ],
      "metadata": {
        "id": "YsUB8k9vmlGl"
      }
    },
    {
      "cell_type": "code",
      "source": [
        "nums = range(3,10,2)\n",
        "print(nums)\n",
        "for i in nums:\n",
        "    print(i)"
      ],
      "metadata": {
        "id": "oGRmFT6SkAr7",
        "outputId": "4a86563e-a3f8-4656-ff52-a151e931e1b7",
        "colab": {
          "base_uri": "https://localhost:8080/"
        }
      },
      "execution_count": null,
      "outputs": [
        {
          "output_type": "stream",
          "name": "stdout",
          "text": [
            "range(3, 10, 2)\n",
            "3\n",
            "5\n",
            "7\n",
            "9\n"
          ]
        }
      ]
    },
    {
      "cell_type": "markdown",
      "source": [
        "## **2. Exception handling in python**"
      ],
      "metadata": {
        "id": "9BpnMXlCm2X9"
      }
    },
    {
      "cell_type": "markdown",
      "source": [
        "- try block, we write the code in which there are chances\n",
        "of any error or exception to occur.\n",
        "- Whereas the except block is responsible for catching the\n",
        "exception and executing the statements specified inside it.\n",
        "\n",
        "- code execution is interrupted in the try block when an\n",
        "exception occurs, and the code statements inside the try\n",
        "block after the line which caused the exception are not\n",
        "executed.\n",
        "- The execution then jumps into the except block. And after\n",
        "the execution of the code statements inside the except block\n",
        "the code statements after it are executed, just like any\n",
        "other normal execution.\n",
        "\n",
        "- Finally block, always executed. Generally used for closing\n",
        "resources like files and databases."
      ],
      "metadata": {
        "id": "zHDI0ytLm-Gt"
      }
    },
    {
      "cell_type": "code",
      "source": [
        "try:\n",
        "    a = input(\"Enter numerator\")\n",
        "    b = input(\"inter denominator \")\n",
        "    res = a/b\n",
        "    print(a,\"/\",b,\" is: \",res)\n",
        "\n",
        "#Syntax: except(<Types of exception to be catched>)\n",
        "except(ZeroDivisionError):\n",
        "    print(\"div by zero not allowed\")\n",
        "except(ValueError):\n",
        "    print(\"You must enter a string value\")\n",
        "#handling with one except block\n",
        "except(ZeroDivisionError, ValueError):\n",
        "    print(\"You have wither divided by zero or entered wrong val\")\n",
        "# generic except block\n",
        "except:\n",
        "    print(\"Oops! Something went wrong!\")\n",
        "finally:\n",
        "    print(\"Code execution Wrap up!\")"
      ],
      "metadata": {
        "id": "aL4O_cAAkA5j",
        "colab": {
          "base_uri": "https://localhost:8080/"
        },
        "outputId": "eca41c8a-209e-489c-f748-007ee1f066a8"
      },
      "execution_count": null,
      "outputs": [
        {
          "output_type": "stream",
          "name": "stdout",
          "text": [
            "Oops! Something went wrong!\n",
            "Code execution Wrap up!\n"
          ]
        }
      ]
    },
    {
      "cell_type": "markdown",
      "source": [
        "Raise keyword: to raise an exception"
      ],
      "metadata": {
        "id": "bERL6hh3nDDm"
      }
    },
    {
      "cell_type": "code",
      "source": [
        "a = 10\n",
        "b = 9\n",
        "try:\n",
        "    # condition for checking for negative values\n",
        "    if a < 0 or b < 0:\n",
        "        # raising exception using raise keyword\n",
        "        raise ZeroDivisionError\n",
        "    print(a/b)\n",
        "except ZeroDivisionError:\n",
        "    print(\"Please enter valid integer value\")"
      ],
      "metadata": {
        "id": "ilYAQnrQkBGM",
        "colab": {
          "base_uri": "https://localhost:8080/"
        },
        "outputId": "dc6b8083-55c1-4ba4-fa50-3d35f0af2518"
      },
      "execution_count": null,
      "outputs": [
        {
          "metadata": {
            "tags": null
          },
          "name": "stdout",
          "output_type": "stream",
          "text": [
            "1.1111111111111112\n"
          ]
        }
      ]
    },
    {
      "cell_type": "markdown",
      "source": [
        "raise - without specifying exception class :\n",
        "If we don't provide any exception class name with the\n",
        "raise keyword, it reraises the exception that last occured.\n",
        "\n",
        "- used generally inside an except code block to reraise\n",
        "an exception which is catched."
      ],
      "metadata": {
        "id": "-8fEuDZEnILp"
      }
    },
    {
      "cell_type": "code",
      "source": [
        "a = 10\n",
        "b = 0\n",
        "try:\n",
        "    print(a/b)\n",
        "except ZeroDivisionError:\n",
        "    raise"
      ],
      "metadata": {
        "id": "G8ehf31lkBTe",
        "colab": {
          "base_uri": "https://localhost:8080/"
        },
        "outputId": "b376d6dc-4b56-4cb6-ca48-7be726660142"
      },
      "execution_count": null,
      "outputs": [
        {
          "output_type": "error",
          "ename": "ZeroDivisionError",
          "evalue": "division by zero",
          "traceback": [
            "\u001b[0;31m---------------------------------------------------------------------------\u001b[0m",
            "\u001b[0;31mZeroDivisionError\u001b[0m                         Traceback (most recent call last)",
            "\u001b[0;32m<ipython-input-4-5b654675b3ea>\u001b[0m in \u001b[0;36m<cell line: 3>\u001b[0;34m()\u001b[0m\n\u001b[1;32m      2\u001b[0m \u001b[0mb\u001b[0m \u001b[0;34m=\u001b[0m \u001b[0;36m0\u001b[0m\u001b[0;34m\u001b[0m\u001b[0;34m\u001b[0m\u001b[0m\n\u001b[1;32m      3\u001b[0m \u001b[0;32mtry\u001b[0m\u001b[0;34m:\u001b[0m\u001b[0;34m\u001b[0m\u001b[0;34m\u001b[0m\u001b[0m\n\u001b[0;32m----> 4\u001b[0;31m     \u001b[0mprint\u001b[0m\u001b[0;34m(\u001b[0m\u001b[0ma\u001b[0m\u001b[0;34m/\u001b[0m\u001b[0mb\u001b[0m\u001b[0;34m)\u001b[0m\u001b[0;34m\u001b[0m\u001b[0;34m\u001b[0m\u001b[0m\n\u001b[0m\u001b[1;32m      5\u001b[0m \u001b[0;32mexcept\u001b[0m \u001b[0mZeroDivisionError\u001b[0m\u001b[0;34m:\u001b[0m\u001b[0;34m\u001b[0m\u001b[0;34m\u001b[0m\u001b[0m\n\u001b[1;32m      6\u001b[0m     \u001b[0;32mraise\u001b[0m\u001b[0;34m\u001b[0m\u001b[0;34m\u001b[0m\u001b[0m\n",
            "\u001b[0;31mZeroDivisionError\u001b[0m: division by zero"
          ]
        }
      ]
    },
    {
      "cell_type": "markdown",
      "source": [
        "raise - with argument\n",
        "we can also provide an argument while raising an exception\n",
        "which is displayed along with the exception class name\n",
        "on the console."
      ],
      "metadata": {
        "id": "MmYbVjvgnN66"
      }
    },
    {
      "cell_type": "code",
      "source": [
        "a = 10\n",
        "b = 0\n",
        "try:\n",
        "    print(a/b)\n",
        "except ZeroDivisionError:\n",
        "    raise ValueError(\"Incorrect value\")"
      ],
      "metadata": {
        "id": "hkpW0xO2kBmT"
      },
      "execution_count": null,
      "outputs": []
    },
    {
      "cell_type": "markdown",
      "source": [
        "## **3. Functions**"
      ],
      "metadata": {
        "id": "8R9WYIVfndO-"
      }
    },
    {
      "cell_type": "markdown",
      "source": [
        "### 1. Local and Global variables"
      ],
      "metadata": {
        "id": "oUwFEmRAnjl0"
      }
    },
    {
      "cell_type": "markdown",
      "source": [
        "Python treates func var as local var and a value cannot be\n",
        "modified before it is initialized"
      ],
      "metadata": {
        "id": "lQxcaO8snqGt"
      }
    },
    {
      "cell_type": "code",
      "source": [
        "x = 10\n",
        "def show():\n",
        "    x+=5 #error! modifying the value before initializing it\n",
        "    print(x)\n",
        "\n",
        "print(x)\n",
        "show()\n",
        "print(x)\n",
        "\n",
        "x = 10\n",
        "def show():\n",
        "    global x\n",
        "    x+=5\n",
        "    print(x)\n",
        "\n",
        "print(x)\n",
        "show()\n",
        "print(x)"
      ],
      "metadata": {
        "id": "M06aefWPkBzO"
      },
      "execution_count": null,
      "outputs": []
    },
    {
      "cell_type": "markdown",
      "source": [
        "### 2. Returning multiple values from a function"
      ],
      "metadata": {
        "id": "wP9fTyB3n4CN"
      }
    },
    {
      "cell_type": "markdown",
      "source": [
        "returns tuple of multiple values"
      ],
      "metadata": {
        "id": "itkO-Snbn862"
      }
    },
    {
      "cell_type": "code",
      "source": [
        "def add_sub(x,y):\n",
        "    add_res = x+y\n",
        "    sub_res = x-y\n",
        "    return add_res, sub_res\n",
        "\n",
        "tes = add_sub(10,20)\n",
        "print(tes)\n",
        "\n",
        "res1, res2 = add_sub(10,20) #destructuring the tuple\n",
        "print(\"add : \", res1, \" sub : \", res2)\n",
        "\n",
        "#Global/ Local\n",
        "person = \"Gagan\"\n",
        "\n",
        "def my_function():\n",
        "    # person += \"Kumar\" #error!\n",
        "    x = globals() #return dict[str<var_name> - any<value>]\n",
        "    globals()['person'] += \" Kumar\"\n",
        "\n",
        "print(person)\n",
        "my_function()\n",
        "print(person)"
      ],
      "metadata": {
        "id": "-80eFMHAkCAT"
      },
      "execution_count": null,
      "outputs": []
    },
    {
      "cell_type": "markdown",
      "source": [
        "## **4. More on varibales**"
      ],
      "metadata": {
        "id": "nXJnw7gqoFL-"
      }
    },
    {
      "cell_type": "markdown",
      "source": [
        "### 1. More on varibales"
      ],
      "metadata": {
        "id": "lbDx0kO7oJjb"
      }
    },
    {
      "cell_type": "markdown",
      "source": [
        "In python, whenever we carete multiple variables and if they\n",
        "have same data, they both will point to same box"
      ],
      "metadata": {
        "id": "hiNIIFNsoM_n"
      }
    },
    {
      "cell_type": "code",
      "source": [
        "num1 = 5\n",
        "print(id(num1)) #gives the address of the variable\n",
        "num2 = 5\n",
        "print(id(num2))"
      ],
      "metadata": {
        "id": "q9GBhv50kCMT"
      },
      "execution_count": null,
      "outputs": []
    },
    {
      "cell_type": "markdown",
      "source": [
        "### 2. types of variable"
      ],
      "metadata": {
        "id": "jaLTVgEloWpj"
      }
    },
    {
      "cell_type": "markdown",
      "source": [
        "-> to check the type of var: type(a)\n",
        "\n",
        "-> Data types\n",
        "\n",
        "none, Numeric, String, Range, List, Tuple, Set, Dictionary\n",
        "-> none: when a var is not assigned any value\n",
        "Numeric: int, float, complex, bool"
      ],
      "metadata": {
        "id": "NAUjLDfioZ5O"
      }
    },
    {
      "cell_type": "code",
      "source": [
        "num1 = 3 + 4j #complex\n",
        "\n",
        "#type conversion\n",
        "a = 6.67\n",
        "b = int(a)\n",
        "print(type(b))\n",
        "c = float(b)\n",
        "d = 7\n",
        "e = complex(c,d)\n",
        "print(e, type(e))"
      ],
      "metadata": {
        "id": "1Koj_fC9nQlt"
      },
      "execution_count": null,
      "outputs": []
    },
    {
      "cell_type": "markdown",
      "source": [
        "## **5. More on Functions**"
      ],
      "metadata": {
        "id": "9iZ9b2_gokQ4"
      }
    },
    {
      "cell_type": "markdown",
      "source": [
        "### 1. Pass by value and pass by reference"
      ],
      "metadata": {
        "id": "Gw8HB41goqw0"
      }
    },
    {
      "cell_type": "markdown",
      "source": [
        ": <refer p-11(1) pg.-14>"
      ],
      "metadata": {
        "id": "UFKT5QbSovtS"
      }
    },
    {
      "cell_type": "markdown",
      "source": [
        "### 2. To keep function without function body"
      ],
      "metadata": {
        "id": "4D8ZU3ifpAgF"
      }
    },
    {
      "cell_type": "code",
      "source": [
        "def person():\n",
        "    pass"
      ],
      "metadata": {
        "id": "OmKYy7fmnQj3"
      },
      "execution_count": null,
      "outputs": []
    },
    {
      "cell_type": "markdown",
      "source": [
        "### 3. Arguments"
      ],
      "metadata": {
        "id": "OgGvfbcxooUl"
      }
    },
    {
      "cell_type": "code",
      "source": [
        "def person(name, dob, citizen):\n",
        "    print(f\"{name} age {2023-dob} is {citizen} citizen\")\n",
        "person(\"Anil\", 2001, \"India\")\n",
        "person(dob=2004, name=\"Kunal\", citizen=\"USA\")"
      ],
      "metadata": {
        "id": "A8fUwe2inQhD"
      },
      "execution_count": null,
      "outputs": []
    },
    {
      "cell_type": "markdown",
      "source": [
        "### 4. Default Arguments"
      ],
      "metadata": {
        "id": "Hhbig9Sp0xxR"
      }
    },
    {
      "cell_type": "code",
      "source": [
        "def person(name, dob, citizen=\"India\"):\n",
        "    print(f\"{name} age {2023-dob} is {citizen} citizen\")\n",
        "# person(name=\"Karan\", 34) #error: Positional argument cannot appear after keyword arguments\n",
        "person(name=\"Karan\", dob=2001)\n",
        "person(name=\"Jaival\", dob=2002, citizen=\"Canada\")"
      ],
      "metadata": {
        "id": "ZoZkNvcTnQeq"
      },
      "execution_count": null,
      "outputs": []
    },
    {
      "cell_type": "markdown",
      "source": [
        "### 5. Variable length arguments (*args)"
      ],
      "metadata": {
        "id": "T9H6-els0-KB"
      }
    },
    {
      "cell_type": "markdown",
      "source": [
        "Number of parameters are not fixed"
      ],
      "metadata": {
        "id": "zNKSbvKD0_7r"
      }
    },
    {
      "cell_type": "code",
      "source": [
        "def sum(a, *b):\n",
        "    # 'b' can accept multiple arguments in the form of tuple\n",
        "    c = a\n",
        "    for i in b:\n",
        "        c+=i\n",
        "    print(c)\n",
        "sum(3,50,50,100)\n",
        "\n",
        "def person(name, *details):\n",
        "    print(name)\n",
        "    for d in details:\n",
        "        print(d)\n",
        "person(\"Deepak\", \"22\", \"Bangalore\") #works fine\n",
        "person(name=\"Deepak\", age=\"22\", city=\"Bangalore\") #error: unexpected argument 'age', so solve this problem we have kwargs\n"
      ],
      "metadata": {
        "id": "_qcP_4DgnQcE"
      },
      "execution_count": null,
      "outputs": []
    },
    {
      "cell_type": "markdown",
      "source": [
        "### 6. Keyword variable arguments (**kwargs)"
      ],
      "metadata": {
        "id": "w3_Bt68V1DYG"
      }
    },
    {
      "cell_type": "markdown",
      "source": [
        "When we want to pass variable length arguments that too with keywords"
      ],
      "metadata": {
        "id": "JTcKGZia1QWp"
      }
    },
    {
      "cell_type": "code",
      "source": [
        "def person(name, **details):\n",
        "    print(name)\n",
        "    print(details) #Dictionary [str : any]\n",
        "    print(type(details))\n",
        "\n",
        "    for key, val in details.items():\n",
        "        print(f\"{key} -- {val}\")\n",
        "\n",
        "person(name=\"Deepak\", age=\"22\", city=\"Bangalore\", company=\"Honeywell\", ctc=10)\n",
        "person(name=\"Prashant\", age=\"21\", company=\"Honeywell\", city=\"Hyd\" , mob=98789867)\n"
      ],
      "metadata": {
        "id": "PACQHWAinQZc"
      },
      "execution_count": null,
      "outputs": []
    },
    {
      "cell_type": "markdown",
      "source": [
        "### 7. Order of taking arguments"
      ],
      "metadata": {
        "id": "mkR5Xy6o1Z4J"
      }
    },
    {
      "cell_type": "markdown",
      "source": [
        "function(a, b, c, *args, d=10, e=34, **kwargs)"
      ],
      "metadata": {
        "id": "6q_9ErS31dm1"
      }
    },
    {
      "cell_type": "markdown",
      "source": [
        "### 8. Lambda Functions/ Anonymous functions"
      ],
      "metadata": {
        "id": "qmjs6FOZ1edi"
      }
    },
    {
      "cell_type": "markdown",
      "source": [
        "Single one liner function\n",
        "```\n",
        "add   =   lambda    a,b      :    a+b\n",
        "----               -----          ----\n",
        "func         comma sep. args    expression to be returned\n",
        "```\n",
        "\n"
      ],
      "metadata": {
        "id": "5nhjdQDP1ijO"
      }
    },
    {
      "cell_type": "code",
      "source": [
        "add = lambda a,b : a+b\n",
        "s1 = add(10,20)\n",
        "print(s1)\n",
        "\n",
        "isEvenOdd = lambda num : \"Even\" if num%2 == 0 else \"Odd\"\n",
        "ans1 = isEvenOdd(9867)\n",
        "print(ans1)"
      ],
      "metadata": {
        "id": "L1T7H24vnQWx"
      },
      "execution_count": null,
      "outputs": []
    },
    {
      "cell_type": "markdown",
      "source": [
        "## **6. Data Structures**"
      ],
      "metadata": {
        "id": "AIS_VO8RBLPR"
      }
    },
    {
      "cell_type": "markdown",
      "source": [
        "Derieved\n",
        "\n",
        "List, Tuple, Dictionary (immutable), Set"
      ],
      "metadata": {
        "id": "IrWg327lBwPi"
      }
    },
    {
      "cell_type": "markdown",
      "source": [
        "## **6.1. String**"
      ],
      "metadata": {
        "id": "sRqApMFxBj_c"
      }
    },
    {
      "cell_type": "markdown",
      "source": [
        "Strings are immutable"
      ],
      "metadata": {
        "id": "tEUxzVIbB44T"
      }
    },
    {
      "cell_type": "markdown",
      "source": [
        "1. Declaration"
      ],
      "metadata": {
        "id": "HrPyNClQCNhl"
      }
    },
    {
      "cell_type": "code",
      "source": [
        "name = 'a' #string of length 1\n",
        "name = \"Raj\"\n",
        "name[0] = 'T' #err: 'str' object does not support item assignment\n",
        "print(name)"
      ],
      "metadata": {
        "id": "Hkk9-y8nnQUG",
        "colab": {
          "base_uri": "https://localhost:8080/",
          "height": 234
        },
        "outputId": "62949e2f-4392-49b7-bf45-18b2c7f2a549"
      },
      "execution_count": null,
      "outputs": [
        {
          "output_type": "error",
          "ename": "TypeError",
          "evalue": "'str' object does not support item assignment",
          "traceback": [
            "\u001b[0;31m---------------------------------------------------------------------------\u001b[0m",
            "\u001b[0;31mTypeError\u001b[0m                                 Traceback (most recent call last)",
            "\u001b[0;32m<ipython-input-1-aa7c33f98624>\u001b[0m in \u001b[0;36m<cell line: 3>\u001b[0;34m()\u001b[0m\n\u001b[1;32m      1\u001b[0m \u001b[0mname\u001b[0m \u001b[0;34m=\u001b[0m \u001b[0;34m'a'\u001b[0m \u001b[0;31m#string of length 1\u001b[0m\u001b[0;34m\u001b[0m\u001b[0;34m\u001b[0m\u001b[0m\n\u001b[1;32m      2\u001b[0m \u001b[0mname\u001b[0m \u001b[0;34m=\u001b[0m \u001b[0;34m\"Raj\"\u001b[0m\u001b[0;34m\u001b[0m\u001b[0;34m\u001b[0m\u001b[0m\n\u001b[0;32m----> 3\u001b[0;31m \u001b[0mname\u001b[0m\u001b[0;34m[\u001b[0m\u001b[0;36m0\u001b[0m\u001b[0;34m]\u001b[0m \u001b[0;34m=\u001b[0m \u001b[0;34m'T'\u001b[0m \u001b[0;31m#err: 'str' object does not support item assignment\u001b[0m\u001b[0;34m\u001b[0m\u001b[0;34m\u001b[0m\u001b[0m\n\u001b[0m\u001b[1;32m      4\u001b[0m \u001b[0mprint\u001b[0m\u001b[0;34m(\u001b[0m\u001b[0mname\u001b[0m\u001b[0;34m)\u001b[0m\u001b[0;34m\u001b[0m\u001b[0;34m\u001b[0m\u001b[0m\n",
            "\u001b[0;31mTypeError\u001b[0m: 'str' object does not support item assignment"
          ]
        }
      ]
    },
    {
      "cell_type": "markdown",
      "source": [
        "2. Ord / Chr"
      ],
      "metadata": {
        "id": "e6knexH5B8L1"
      }
    },
    {
      "cell_type": "markdown",
      "source": [
        "ord(a) : returns the ascii equivalent index of a char\n",
        "\n",
        "Chr(a) : Returns the ascii equivalent char of it"
      ],
      "metadata": {
        "id": "egHwt1W8CISK"
      }
    },
    {
      "cell_type": "code",
      "source": [
        "index = ord(\"A\")\n",
        "print(index)\n",
        "\n",
        "# index = ord(\"AB\") #error\n",
        "# print(index)\n",
        "\n",
        "char = chr(64)\n",
        "print(char)\n",
        "\n",
        "char = chr(645756)\n",
        "print(char) #undefined ouput"
      ],
      "metadata": {
        "id": "yUaGC3fOnQRB",
        "colab": {
          "base_uri": "https://localhost:8080/"
        },
        "outputId": "0e9e7dae-2f1e-4d79-da68-cabdbe8c66b7"
      },
      "execution_count": 1,
      "outputs": [
        {
          "output_type": "stream",
          "name": "stdout",
          "text": [
            "65\n",
            "@\n",
            "򝩼\n"
          ]
        }
      ]
    },
    {
      "cell_type": "markdown",
      "source": [
        "3. String operations"
      ],
      "metadata": {
        "id": "c3JnSY4eCYwy"
      }
    },
    {
      "cell_type": "markdown",
      "source": [
        "3-i length"
      ],
      "metadata": {
        "id": "9gjeKd-lCoTR"
      }
    },
    {
      "cell_type": "code",
      "source": [
        "print(len(str))"
      ],
      "metadata": {
        "id": "HQ1Wl5eskCZc"
      },
      "execution_count": null,
      "outputs": []
    },
    {
      "cell_type": "markdown",
      "source": [
        "3-ii indexing"
      ],
      "metadata": {
        "id": "Ydya631TCvRC"
      }
    },
    {
      "cell_type": "markdown",
      "source": [
        "------>\n",
        "\n",
        "0 to (len-1)\n",
        "    \n",
        "   <------\n",
        "\n",
        "-len to -1\n",
        "\n",
        "str[0]  = 'A' str[1]  = 'B' str[2]  = 'C' str[3]  = 'D' str[4]  = 'E'\n",
        "\n",
        "str[-1] = 'E' str[-2] = 'D' str[-3] = 'C' str[-4] = 'B' str[-5] = 'A'"
      ],
      "metadata": {
        "id": "136AazRTC0Fb"
      }
    },
    {
      "cell_type": "markdown",
      "source": [
        "3-iii Changing the entire string"
      ],
      "metadata": {
        "id": "fdFfSOgpC8F8"
      }
    },
    {
      "cell_type": "code",
      "source": [
        "str = \"FGH\"\n",
        "print(str)\n",
        "type(str)\n"
      ],
      "metadata": {
        "id": "4v0IFTL8o9Ht",
        "colab": {
          "base_uri": "https://localhost:8080/"
        },
        "outputId": "05e0fc3e-df66-4ba6-fa96-57627cef1ac9"
      },
      "execution_count": 2,
      "outputs": [
        {
          "output_type": "stream",
          "name": "stdout",
          "text": [
            "FGH\n"
          ]
        },
        {
          "output_type": "execute_result",
          "data": {
            "text/plain": [
              "str"
            ]
          },
          "metadata": {},
          "execution_count": 2
        }
      ]
    },
    {
      "cell_type": "markdown",
      "source": [
        "3-iv String Concatination"
      ],
      "metadata": {
        "id": "oWF3rIgAC-cx"
      }
    },
    {
      "cell_type": "code",
      "source": [
        "f_name = \"Raghu\"\n",
        "l_name = \"kishan\"\n",
        "name = f_name + \" \" + l_name\n",
        "print(name)"
      ],
      "metadata": {
        "id": "MiOYzD7LBZFi"
      },
      "execution_count": null,
      "outputs": []
    },
    {
      "cell_type": "markdown",
      "source": [
        "3-v Type casting using str() function"
      ],
      "metadata": {
        "id": "PcK0_LEiDCVW"
      }
    },
    {
      "cell_type": "code",
      "source": [
        "age = 90\n",
        "str2 = \"I am \" + str(age) + \" years old\"\n",
        "print(str2)\n",
        "str2 = \"I am \" + age + \" years old\"\n",
        "print(str2) #err: TypeError - can only concatenate str (not \"int\") to str\n"
      ],
      "metadata": {
        "id": "Tkv5q903BZDR"
      },
      "execution_count": null,
      "outputs": []
    },
    {
      "cell_type": "markdown",
      "source": [
        "3-vi String slicing"
      ],
      "metadata": {
        "id": "u4BVSDZZDGCx"
      }
    },
    {
      "cell_type": "markdown",
      "source": [
        "To extract a particular part or a substring from a string object\n",
        "\n",
        "\n",
        "\n",
        "```\n",
        "string[start_pt : end_pt : step_count]\n",
        "```\n",
        "\n",
        "\n",
        "start to (n-1) index\n",
        "\n",
        "step_count: helps to skip intermediate characters"
      ],
      "metadata": {
        "id": "zs9aWZkcDKoC"
      }
    },
    {
      "cell_type": "code",
      "source": [
        "statement = \"Python programming is fun\"\n",
        "\n",
        "sliced_stmt = statement[8 : 20]\n",
        "print(sliced_stmt)\n",
        "\n",
        "sliced_stmt = statement[ : 10] # 0 till index 9\n",
        "print(sliced_stmt)\n",
        "\n",
        "sliced_stmt = statement[19 : ] # 19 to end index\n",
        "print(sliced_stmt)\n",
        "\n",
        "want_programming = statement[7 : 7+len(\"programming\")]\n",
        "print(want_programming)"
      ],
      "metadata": {
        "id": "MulsaudGBZA6",
        "colab": {
          "base_uri": "https://localhost:8080/"
        },
        "outputId": "a95a52b4-be44-4e85-950f-f09e1c8666d3"
      },
      "execution_count": 3,
      "outputs": [
        {
          "output_type": "stream",
          "name": "stdout",
          "text": [
            "rogramming i\n",
            "Python pro\n",
            "is fun\n",
            "programming\n"
          ]
        }
      ]
    },
    {
      "cell_type": "markdown",
      "source": [
        "3-vii Membership operator"
      ],
      "metadata": {
        "id": "F64JDdLEDReS"
      }
    },
    {
      "cell_type": "markdown",
      "source": [
        "in / not in"
      ],
      "metadata": {
        "id": "uhJ02zNQDSxQ"
      }
    },
    {
      "cell_type": "code",
      "source": [
        "statement2 = \"John did you attended the advance conference on Machine Learning\"\n",
        "print('John' in statement2)\n",
        "print('John' not in statement2)"
      ],
      "metadata": {
        "id": "GS9oYusOBY-S"
      },
      "execution_count": null,
      "outputs": []
    },
    {
      "cell_type": "markdown",
      "source": [
        "3-viii Repeation Operator"
      ],
      "metadata": {
        "id": "Yy0KJ06uDWGF"
      }
    },
    {
      "cell_type": "code",
      "source": [
        "str = \"ABC\"\n",
        "repeated_str = str*4\n",
        "print(repeated_str)"
      ],
      "metadata": {
        "id": "MbyKMqBsBY7m"
      },
      "execution_count": null,
      "outputs": []
    },
    {
      "cell_type": "markdown",
      "source": [
        "4. String Methods"
      ],
      "metadata": {
        "id": "YyVU12bVDeVy"
      }
    },
    {
      "cell_type": "markdown",
      "source": [
        "4-i Help"
      ],
      "metadata": {
        "id": "O3CIln5vDhDv"
      }
    },
    {
      "cell_type": "markdown",
      "source": [
        "shows the list of all functions"
      ],
      "metadata": {
        "id": "z4Bc_nq6DilI"
      }
    },
    {
      "cell_type": "code",
      "source": [
        "help()"
      ],
      "metadata": {
        "id": "LqslUXC5DWwI"
      },
      "execution_count": null,
      "outputs": []
    },
    {
      "cell_type": "markdown",
      "source": [
        "4-ii Upper/ Lower"
      ],
      "metadata": {
        "id": "OiQAwsyvDsGd"
      }
    },
    {
      "cell_type": "code",
      "source": [
        "str = \"hi THIS is jOHn\"\n",
        "print(str.upper())\n",
        "print(str.lower())"
      ],
      "metadata": {
        "id": "k6gEFHT1DYHm"
      },
      "execution_count": null,
      "outputs": []
    },
    {
      "cell_type": "markdown",
      "source": [
        "4-iii strip() / rstrip() / lstrip()"
      ],
      "metadata": {
        "id": "ycTrPgz1DwA2"
      }
    },
    {
      "cell_type": "markdown",
      "source": [
        "To remove spaces or any char from ending/ left/ right"
      ],
      "metadata": {
        "id": "-x1VnmqsDzqV"
      }
    },
    {
      "cell_type": "code",
      "source": [
        "str = \"     %%There is a football match in Argentina^^  \"\n",
        "print(str.rstrip())\n",
        "print(str.lstrip())\n",
        "\n",
        "str2 = \"%%second str^^\"\n",
        "print(str2.rstrip('^'))\n",
        "print(str2.lstrip('%'))\n",
        "print(str2.lstrip('%').rstrip('^'))"
      ],
      "metadata": {
        "id": "FvjLMJ7QDXHj"
      },
      "execution_count": null,
      "outputs": []
    },
    {
      "cell_type": "markdown",
      "source": [
        "4-iv count()"
      ],
      "metadata": {
        "id": "XuGsLt31D3ZK"
      }
    },
    {
      "cell_type": "markdown",
      "source": [
        "To count the number of occurrence of a given sub string in a string"
      ],
      "metadata": {
        "id": "LtCtqx_UD5br"
      }
    },
    {
      "cell_type": "code",
      "source": [
        "str3 = \"This is a sample sentence\"\n",
        "print(str3.count(\"s\"))\n",
        "print(str3.count(\"s\", 5)) #start from 5th index\n",
        "print(str3.count(\"s\", 5, 10)) # (subStr, start, end)\n"
      ],
      "metadata": {
        "id": "hcgTDR_2DXki"
      },
      "execution_count": null,
      "outputs": []
    },
    {
      "cell_type": "markdown",
      "source": [
        "Example-1"
      ],
      "metadata": {
        "id": "Vs7ZDoeoD810"
      }
    },
    {
      "cell_type": "markdown",
      "source": [
        "Reverse a String"
      ],
      "metadata": {
        "id": "eVsGQIaQED-m"
      }
    },
    {
      "cell_type": "code",
      "source": [
        "s1 = \"apple\"\n",
        "print(s1[::-1])"
      ],
      "metadata": {
        "id": "-MTEEKwVBYwS"
      },
      "execution_count": null,
      "outputs": []
    },
    {
      "cell_type": "markdown",
      "source": [
        "Example-2"
      ],
      "metadata": {
        "id": "QE0_SvyAEHTZ"
      }
    },
    {
      "cell_type": "markdown",
      "source": [
        "Checking whether the String is Pallindrome or not"
      ],
      "metadata": {
        "id": "dR5_fQT3EI_j"
      }
    },
    {
      "cell_type": "code",
      "source": [
        "s2 = \"abcdcba\"\n",
        "print(s2 == s2[ : : -1])"
      ],
      "metadata": {
        "id": "qeluvA9yDqDj"
      },
      "execution_count": null,
      "outputs": []
    },
    {
      "cell_type": "markdown",
      "source": [
        "## **6.2. Lists**"
      ],
      "metadata": {
        "id": "0rqLGtDzEX66"
      }
    },
    {
      "cell_type": "markdown",
      "source": [
        "- ordered             \n",
        "- accessed using index\n",
        "- mutable             \n",
        "- hetrogenious in nature"
      ],
      "metadata": {
        "id": "nqLtqR1pEjTf"
      }
    },
    {
      "cell_type": "markdown",
      "source": [
        "1. Creating List"
      ],
      "metadata": {
        "id": "UtQ7HgvrEkp6"
      }
    },
    {
      "cell_type": "code",
      "source": [
        "a = [] #auto create\n",
        "a = list() #create empty list\n",
        "\n",
        "l = [\"apple\", 100, 24.5, 'banana', [\"ab\",\"cd\"], (\"mango\", \"pineapple\")]\n",
        "print(l)"
      ],
      "metadata": {
        "id": "yGQE9Yk8DqAj"
      },
      "execution_count": null,
      "outputs": []
    },
    {
      "cell_type": "markdown",
      "source": [
        "2. Indexing"
      ],
      "metadata": {
        "id": "Xf0W9xquErJe"
      }
    },
    {
      "cell_type": "markdown",
      "source": [
        "List also follows indexing same as of string\n",
        "\n",
        "0 to len(l)-1"
      ],
      "metadata": {
        "id": "rNFSwC1FEsSr"
      }
    },
    {
      "cell_type": "markdown",
      "source": [
        "3. Operations"
      ],
      "metadata": {
        "id": "y964uqopEu0w"
      }
    },
    {
      "cell_type": "markdown",
      "source": [
        "3.i Length"
      ],
      "metadata": {
        "id": "pZ6botcvEw2_"
      }
    },
    {
      "cell_type": "code",
      "source": [
        "l = [\"apple\", 100, 24.5, 'banana', [\"ab\",\"cd\"], (\"mango\", \"pineapple\")]\n",
        "print(len(l))"
      ],
      "metadata": {
        "id": "US42MrPGDp9M"
      },
      "execution_count": null,
      "outputs": []
    },
    {
      "cell_type": "markdown",
      "source": [
        "3.ii List Concatination"
      ],
      "metadata": {
        "id": "cqqU1YKEE5sy"
      }
    },
    {
      "cell_type": "code",
      "source": [
        "l1 = ['apple', 'banana', 3.14]\n",
        "l2 = ['mango']\n",
        "l3 = l1+l2\n",
        "print(l3)"
      ],
      "metadata": {
        "id": "qSvxUCmYDp4K"
      },
      "execution_count": null,
      "outputs": []
    },
    {
      "cell_type": "markdown",
      "source": [
        "3.iii Mutability"
      ],
      "metadata": {
        "id": "bD0SmcgyE-7L"
      }
    },
    {
      "cell_type": "markdown",
      "source": [
        "list are mutable"
      ],
      "metadata": {
        "id": "nIB0jDDGFAZF"
      }
    },
    {
      "cell_type": "code",
      "source": [
        "l1 = ['apple', 'banana', 3.14]\n",
        "l1[0] = 'mango'\n",
        "print(l1)"
      ],
      "metadata": {
        "id": "LTpW_EQtDpwa"
      },
      "execution_count": null,
      "outputs": []
    },
    {
      "cell_type": "markdown",
      "source": [
        "3.iv Membership in list"
      ],
      "metadata": {
        "id": "AwfV1T0yFDkz"
      }
    },
    {
      "cell_type": "code",
      "source": [
        "l1 = ['apple', 'banana', 3.14]\n",
        "print(3.14 in l1)\n",
        "print(\"mango\" in l1)"
      ],
      "metadata": {
        "id": "7cXUtOXODpkr"
      },
      "execution_count": null,
      "outputs": []
    },
    {
      "cell_type": "markdown",
      "source": [
        "3.v Repetation"
      ],
      "metadata": {
        "id": "f48qt_TuFrGJ"
      }
    },
    {
      "cell_type": "code",
      "source": [
        "l1 = [\"hi\", 45]\n",
        "l1 = l1*3\n",
        "print(l1)"
      ],
      "metadata": {
        "id": "q5IDne7UE8Ee"
      },
      "execution_count": null,
      "outputs": []
    },
    {
      "cell_type": "markdown",
      "source": [
        "3.vi Traversing through the list"
      ],
      "metadata": {
        "id": "DSPrjaGcFuH6"
      }
    },
    {
      "cell_type": "markdown",
      "source": [
        "List are also iterable like String"
      ],
      "metadata": {
        "id": "erZwYLEuFwel"
      }
    },
    {
      "cell_type": "code",
      "source": [
        "l1 = ['apple', 'banana', 3.14]\n",
        "i = 1\n",
        "for element in l1:\n",
        "    print(f\"{i}) {element}\")\n",
        "    i = i+1"
      ],
      "metadata": {
        "id": "AEnM33iLE8CN"
      },
      "execution_count": null,
      "outputs": []
    },
    {
      "cell_type": "markdown",
      "source": [
        "3.vii Slicing"
      ],
      "metadata": {
        "id": "YcjUOZiGFzHa"
      }
    },
    {
      "cell_type": "code",
      "source": [
        "l1 = ['0', '1', '2', '3', '4']\n",
        "print(f\"l1[1:4] : {l1[1:4]}\")\n",
        "print(f\"l1[:4] : {l1[0:4]}\")\n",
        "print(f\"l1[2:] : {l1[2:]}\")\n",
        "print(f\"l1[:4:2] : {l1[:4:2]}\")"
      ],
      "metadata": {
        "id": "s0MEEkC7E7_4"
      },
      "execution_count": null,
      "outputs": []
    },
    {
      "cell_type": "markdown",
      "source": [
        "4. List Methods"
      ],
      "metadata": {
        "id": "jo8Sf9FHF9Kq"
      }
    },
    {
      "cell_type": "markdown",
      "source": [
        "4.i Adding elements"
      ],
      "metadata": {
        "id": "ROMZZ8MaGBei"
      }
    },
    {
      "cell_type": "code",
      "source": [
        "l1 = ['0', '1', '2', '3', '4']\n",
        "l1.append(\"last\")\n",
        "print(l1)\n",
        "\n",
        "l1 = ['0', '1', '2', '3', '4']\n",
        "l1.insert(1, \"atFirstIndex\")\n",
        "print(l1)"
      ],
      "metadata": {
        "id": "tiglw1gWE761"
      },
      "execution_count": null,
      "outputs": []
    },
    {
      "cell_type": "markdown",
      "source": [
        "4.ii Extend()"
      ],
      "metadata": {
        "id": "Oe5IoHckGJex"
      }
    },
    {
      "cell_type": "markdown",
      "source": [
        "It takes an iterable object like List, Tuple object and inserts it as an individual element to the list"
      ],
      "metadata": {
        "id": "dvWS1OHbGMNb"
      }
    },
    {
      "cell_type": "code",
      "source": [
        "l1 = ['0', '1', '2', '3', '4']\n",
        "l1.extend( ['e1','e2'] )\n",
        "print(l1)"
      ],
      "metadata": {
        "id": "Jl_iCMhKGHE6"
      },
      "execution_count": null,
      "outputs": []
    },
    {
      "cell_type": "markdown",
      "source": [
        "4.iii Delete elements from the List"
      ],
      "metadata": {
        "id": "ew3sTE6qGTQK"
      }
    },
    {
      "cell_type": "markdown",
      "source": [
        "4.iii-a del keyword"
      ],
      "metadata": {
        "id": "CPjsIDf3GVr4"
      }
    },
    {
      "cell_type": "code",
      "source": [
        "l1 = ['0', '1', '2', '3', '4']\n",
        "print(l1)\n",
        "del l1 #deletes the list, deletes the entire scope of Object\n",
        "print(l1)\n",
        "\n",
        "l1 = ['0', '1', '2', '3', '4']\n",
        "del(l1[0]) #not recommended\n",
        "print(l1)"
      ],
      "metadata": {
        "id": "lr7PmKlgGHBi"
      },
      "execution_count": null,
      "outputs": []
    },
    {
      "cell_type": "markdown",
      "source": [
        "4.iii-b pop()"
      ],
      "metadata": {
        "id": "XS9ayJDXGano"
      }
    },
    {
      "cell_type": "markdown",
      "source": [
        "pop(? index) -> Object\n",
        "\n",
        "deletes and returns the last element at index i.\n",
        "\n",
        "Removes the last element if no index is passed"
      ],
      "metadata": {
        "id": "p4de76R2GcI9"
      }
    },
    {
      "cell_type": "code",
      "source": [
        "l1 = ['0', '1', '2', '3', '4']\n",
        "print(l1.pop())\n",
        "print(l1)\n",
        "\n",
        "l1 = ['0', '1', '2', '3', '4']\n",
        "print(l1.pop(-2))\n",
        "print(l1.pop(1))"
      ],
      "metadata": {
        "id": "p8iq6t1aGG90"
      },
      "execution_count": null,
      "outputs": []
    },
    {
      "cell_type": "markdown",
      "source": [
        "4.iii-c remove()"
      ],
      "metadata": {
        "id": "WIoczeSrGg5N"
      }
    },
    {
      "cell_type": "markdown",
      "source": [
        "remove(Object val) -> None\n",
        "\n",
        "Takes obj as an argument, removes the 1st occurrence of that object form the given list.\n",
        "\n",
        "Useful when working with objects.\n",
        "Raises ValueError is 'val' is not in the list"
      ],
      "metadata": {
        "id": "Vs31DNfXGinS"
      }
    },
    {
      "cell_type": "code",
      "source": [
        "l1 = [\"apple\", \"mango\", \"banana\"]\n",
        "print(l1.remove(\"apple\")) #returns nothing\n",
        "print(l1)\n",
        "\n",
        "l1 = [\"apple\", \"mango\", \"banana\"]\n",
        "l1.remove(\"orange\")"
      ],
      "metadata": {
        "id": "q2d4j_NnGG4l"
      },
      "execution_count": null,
      "outputs": []
    },
    {
      "cell_type": "markdown",
      "source": [
        "4.iv Sorting"
      ],
      "metadata": {
        "id": "KZKu5MS9GnFZ"
      }
    },
    {
      "cell_type": "markdown",
      "source": [
        "4.iv-a sorted()"
      ],
      "metadata": {
        "id": "97DAzG8yGq8g"
      }
    },
    {
      "cell_type": "markdown",
      "source": [
        "Take any iterable object\n",
        "\n",
        "Returns the sorted list"
      ],
      "metadata": {
        "id": "PyHwfrvrGs1W"
      }
    },
    {
      "cell_type": "code",
      "source": [
        "l1 = [\"apple\", \"mango\", \"banana\"]\n",
        "l1 = sorted(l1)\n",
        "print(l1)\n",
        "\n",
        "l1 = [\"apple\", \"mango\", \"banana\"]\n",
        "l1 = sorted(l1, reverse=True)\n",
        "print(l1)"
      ],
      "metadata": {
        "id": "qzO667BYGGyq"
      },
      "execution_count": null,
      "outputs": []
    },
    {
      "cell_type": "markdown",
      "source": [
        "4.iv-b sort()"
      ],
      "metadata": {
        "id": "l-Tub_MjGv76"
      }
    },
    {
      "cell_type": "markdown",
      "source": [
        "Does not return anything\n",
        "\n",
        "The sort is in-place (i.e. the list itself is modified) and\n",
        "stable (i.e. the order of two equal elements is maintained).\n"
      ],
      "metadata": {
        "id": "h0Y16WGrGyOD"
      }
    },
    {
      "cell_type": "code",
      "source": [
        "l1 = [\"apple\", \"mango\", \"banana\"]\n",
        "l1.sort(reverse=True)\n",
        "print(l1)"
      ],
      "metadata": {
        "id": "BHo0-4gmE74g"
      },
      "execution_count": null,
      "outputs": []
    },
    {
      "cell_type": "markdown",
      "source": [
        "4.v Reversing the list"
      ],
      "metadata": {
        "id": "lQA-vkRFG4jk"
      }
    },
    {
      "cell_type": "markdown",
      "source": [
        "4.v-a reversed()"
      ],
      "metadata": {
        "id": "VcIWE7T9G6O2"
      }
    },
    {
      "cell_type": "markdown",
      "source": [
        "Return a reverse iterator over the list\n",
        "def __reversed__() -> Iterator[str]"
      ],
      "metadata": {
        "id": "yX7Cz2KPG7k8"
      }
    },
    {
      "cell_type": "code",
      "source": [
        "#error:\n",
        "l1 = [\"apple\", \"mango\", \"banana\"]\n",
        "for i in l1.__reversed__:\n",
        "     print(i)\n"
      ],
      "metadata": {
        "id": "BviyUGF6E71n"
      },
      "execution_count": null,
      "outputs": []
    },
    {
      "cell_type": "markdown",
      "source": [
        "4.v-b reverse()"
      ],
      "metadata": {
        "id": "sYkPL42zHAHn"
      }
    },
    {
      "cell_type": "markdown",
      "source": [
        "in place reverse of the list"
      ],
      "metadata": {
        "id": "FWKpw8i9HW7s"
      }
    },
    {
      "cell_type": "code",
      "source": [
        "l1 = [\"apple\", \"mango\", \"banana\"]\n",
        "l1.reverse()\n",
        "print(l1)"
      ],
      "metadata": {
        "id": "iv5SDTmDE7zc"
      },
      "execution_count": null,
      "outputs": []
    },
    {
      "cell_type": "markdown",
      "source": [
        "4.vi count(x)"
      ],
      "metadata": {
        "id": "pptAvTZQHauj"
      }
    },
    {
      "cell_type": "markdown",
      "source": [
        "Returns the no of times, x appears in the list"
      ],
      "metadata": {
        "id": "IZNVt5_-Hcgz"
      }
    },
    {
      "cell_type": "code",
      "source": [
        "l1 = ['apple', 'mango', 'mango', 'banana', 'mango']\n",
        "print(l1.count('mango'))"
      ],
      "metadata": {
        "id": "xh-Huei-GogK"
      },
      "execution_count": null,
      "outputs": []
    },
    {
      "cell_type": "markdown",
      "source": [
        "5. Shallow Copying"
      ],
      "metadata": {
        "id": "H7ccLczkHfZN"
      }
    },
    {
      "cell_type": "code",
      "source": [
        "a = [\"apple\", \"mango\", \"banana\"]\n",
        "b = a #Copies the address of ObjA to ObjB\n",
        "a[0] = 'jucy'\n",
        "print(a) #['jucy', 'mango', 'banana']\n",
        "print(b) #['jucy', 'mango', 'banana']\n",
        "\n",
        "#To overcome this sitution we use Shallow copying\n",
        "a = [\"apple\", \"mango\", \"banana\"]\n",
        "b = a[ : ] #copy all the contents of 'a' from start to end\n",
        "print(b)\n",
        "a[0] = 'jucy'\n",
        "print(b)\n",
        "print(a)"
      ],
      "metadata": {
        "id": "Us2lIo7ZGodp"
      },
      "execution_count": null,
      "outputs": []
    },
    {
      "cell_type": "markdown",
      "source": [
        "6. Interconversions"
      ],
      "metadata": {
        "id": "njiiDboqHl0D"
      }
    },
    {
      "cell_type": "markdown",
      "source": [
        "6.i Tuple to List"
      ],
      "metadata": {
        "id": "JrzBVj_JHn6C"
      }
    },
    {
      "cell_type": "markdown",
      "source": [
        "list()\n",
        "\n",
        "class list()\n",
        "\n",
        "If no argument is given, the constructor creates a new empty list.\n",
        "The argument must be an iterable if specified."
      ],
      "metadata": {
        "id": "f_OV7QWWHp1A"
      }
    },
    {
      "cell_type": "code",
      "source": [
        "t = (1,2,3,4,5)\n",
        "lst = list(t)"
      ],
      "metadata": {
        "id": "8SqVC1X6Goa6"
      },
      "execution_count": null,
      "outputs": []
    },
    {
      "cell_type": "markdown",
      "source": [
        "6.ii String to List"
      ],
      "metadata": {
        "id": "ylIeSfG6HwkL"
      }
    },
    {
      "cell_type": "code",
      "source": [
        "lst = list(\"milton\")\n",
        "print(lst) #['m', 'i', 'l', 't', 'o', 'n']"
      ],
      "metadata": {
        "id": "PZM6DUlCHydz"
      },
      "execution_count": null,
      "outputs": []
    },
    {
      "cell_type": "markdown",
      "source": [
        "6.iii List to Tuple"
      ],
      "metadata": {
        "id": "D0Kdd3R5H0Ap"
      }
    },
    {
      "cell_type": "code",
      "source": [
        "lst = ['mango', 2, 3]\n",
        "t = tuple(lst)\n",
        "print(t)"
      ],
      "metadata": {
        "id": "k8F2xAsRGoGn"
      },
      "execution_count": null,
      "outputs": []
    },
    {
      "cell_type": "markdown",
      "source": [
        "6.iii Set to List"
      ],
      "metadata": {
        "id": "vsKhp8GLH5Bk"
      }
    },
    {
      "cell_type": "code",
      "source": [
        "s = {1,6,8,4}\n",
        "l = list(s)\n",
        "print(s) #position won't be retained"
      ],
      "metadata": {
        "id": "zmN9QVElHiLY"
      },
      "execution_count": null,
      "outputs": []
    },
    {
      "cell_type": "markdown",
      "source": [
        "Example-1"
      ],
      "metadata": {
        "id": "zSWfgTR4F16p"
      }
    },
    {
      "cell_type": "markdown",
      "source": [
        "Reversing a List"
      ],
      "metadata": {
        "id": "M8R9HTxLF33t"
      }
    },
    {
      "cell_type": "code",
      "source": [
        "l1 = ['0', '1', '2', '3', '4']\n",
        "print(l1[::-1])"
      ],
      "metadata": {
        "id": "XqRvopYlE79Y"
      },
      "execution_count": null,
      "outputs": []
    },
    {
      "cell_type": "markdown",
      "source": [
        "## **6.3. Tuple**"
      ],
      "metadata": {
        "id": "KZhLcYbEI2ek"
      }
    },
    {
      "cell_type": "markdown",
      "source": [
        "- Immutable data str like String"
      ],
      "metadata": {
        "id": "e3shXw5NJLPK"
      }
    },
    {
      "cell_type": "markdown",
      "source": [
        "1. Defining Tuples"
      ],
      "metadata": {
        "id": "UL1PZs3vJNUv"
      }
    },
    {
      "cell_type": "code",
      "source": [
        "t1 = (1, 2, 3, \"apple\")\n",
        "t2 = 1, 2, 3, \"mango\"\n",
        "\n",
        "#tuple of single value\n",
        "t = 2,\n",
        "print(type(t))\n",
        "t = ('banana', )\n",
        "type(t)\n",
        "\n",
        "#*args accepts argument as tuple\n",
        "def func(*args):\n",
        "    print(args)\n",
        "\n",
        "func(1,2,3)"
      ],
      "metadata": {
        "id": "SQ5F3iWKHiIu"
      },
      "execution_count": null,
      "outputs": []
    },
    {
      "cell_type": "markdown",
      "source": [
        "2. Indexing"
      ],
      "metadata": {
        "id": "VtpV2XVEJgxY"
      }
    },
    {
      "cell_type": "markdown",
      "source": [
        "Tuple also follows indexing same as of List and string\n",
        "\n",
        "0 to len(t)-1"
      ],
      "metadata": {
        "id": "-UQwuhnrJiMl"
      }
    },
    {
      "cell_type": "markdown",
      "source": [
        "3. Length"
      ],
      "metadata": {
        "id": "jPJu8TRsJlFK"
      }
    },
    {
      "cell_type": "markdown",
      "source": [
        "len(t)"
      ],
      "metadata": {
        "id": "4dA7VYR_Jmk_"
      }
    },
    {
      "cell_type": "code",
      "source": [
        "t = (1, 2, 3, \"apple\")\n",
        "print(len(t))"
      ],
      "metadata": {
        "id": "aRQpKxXeHiF4"
      },
      "execution_count": null,
      "outputs": []
    },
    {
      "cell_type": "markdown",
      "source": [
        "4. Concatibation"
      ],
      "metadata": {
        "id": "0aSR-EL2Jp-0"
      }
    },
    {
      "cell_type": "markdown",
      "source": [
        "+"
      ],
      "metadata": {
        "id": "ZibwGXY5JrZX"
      }
    },
    {
      "cell_type": "code",
      "source": [
        "t1 = (1, 2, 3, \"apple\")\n",
        "t2 = (5, \"banana\")\n",
        "t = t1 + t2\n",
        "print(t)"
      ],
      "metadata": {
        "id": "8Yu8vNsPJIyY"
      },
      "execution_count": null,
      "outputs": []
    },
    {
      "cell_type": "markdown",
      "source": [
        "5. Aggrigation Operations: sum()/ min()/ max()"
      ],
      "metadata": {
        "id": "TQn_TTY9JuGn"
      }
    },
    {
      "cell_type": "code",
      "source": [
        "t = (1,2,3,4,5)\n",
        "t = (\"apple\", \"banana\", \"mango\")\n",
        "print(sum(t)) #only for numeric data type\n",
        "print(max(t))\n",
        "print(min(t))"
      ],
      "metadata": {
        "id": "Qtc2l0cHJIwR"
      },
      "execution_count": null,
      "outputs": []
    },
    {
      "cell_type": "markdown",
      "source": [
        "6. Mutating immutable tuples"
      ],
      "metadata": {
        "id": "yuCKRZOuJyLN"
      }
    },
    {
      "cell_type": "code",
      "source": [
        "t = (0,1,2,3,4)\n",
        "# t[3] = 'three' #error\n",
        "t_new = t[0:3] + ('three',) + t[3:]\n",
        "print(t_new)"
      ],
      "metadata": {
        "id": "0sa9L1xxJItm"
      },
      "execution_count": null,
      "outputs": []
    },
    {
      "cell_type": "markdown",
      "source": [
        "7. Interconversions"
      ],
      "metadata": {
        "id": "RbYxiTcqJ0xQ"
      }
    },
    {
      "cell_type": "markdown",
      "source": [
        "7.i List to Tuple"
      ],
      "metadata": {
        "id": "A1B6NxkSJ3Is"
      }
    },
    {
      "cell_type": "markdown",
      "source": [
        "tuple()\n",
        "\n",
        "class tuple()\n",
        "\n",
        "If no argument is given, the constructor returns an empty tuple.\n",
        "\n",
        "If iterable is specified the tuple is initialized from iterable's items.\n",
        "\n",
        "If the argument is a tuple, the return value is the same object.\n"
      ],
      "metadata": {
        "id": "z-NJCG1qJ5eX"
      }
    },
    {
      "cell_type": "code",
      "source": [
        "lst = ['mango', 2, 3]\n",
        "t = tuple(lst)\n",
        "print(t)"
      ],
      "metadata": {
        "id": "26Y_b03KJIrY"
      },
      "execution_count": null,
      "outputs": []
    },
    {
      "cell_type": "markdown",
      "source": [
        "8. Returning multiple values form a function"
      ],
      "metadata": {
        "id": "TiGkSjXqJ-9k"
      }
    },
    {
      "cell_type": "code",
      "source": [
        "def add_sub(a,b):\n",
        "     return a+b, a-b #or return (a+b, a-b)\n",
        "\n",
        "sum_diff_tuple = add_sub(10,20)\n",
        "print(sum_diff_tuple)\n",
        "\n",
        "sum, diff = add_sub(10,20) #De-structuring it\n",
        "print(f\"sum: {sum} difference {diff}\")"
      ],
      "metadata": {
        "id": "iV9BdpBMHiDD"
      },
      "execution_count": null,
      "outputs": []
    },
    {
      "cell_type": "markdown",
      "source": [
        "9. Sorting a Tuple"
      ],
      "metadata": {
        "id": "x6ftLivZKFFA"
      }
    },
    {
      "cell_type": "code",
      "source": [
        "# t = ('mango', 3, 5, 7, 'apple') #TypeError: '<' not supported between instances of 'int' and 'str'\n",
        "t = (3, 5, 7, 1)\n",
        "obj = sorted(t) #returns a list\n",
        "type(obj)\n",
        "print(obj)\n",
        "\n",
        "t = tuple(obj)\n",
        "print(t)\n"
      ],
      "metadata": {
        "id": "YFgZMgB1Hh__"
      },
      "execution_count": null,
      "outputs": []
    },
    {
      "cell_type": "markdown",
      "source": [
        "10. Nested Tuple"
      ],
      "metadata": {
        "id": "DaDNB0zSKJfa"
      }
    },
    {
      "cell_type": "code",
      "source": [
        "t = (1,5,('python', 'java'), 7)\n",
        "print(t[2][1])"
      ],
      "metadata": {
        "id": "VGs6APcxHh6L"
      },
      "execution_count": null,
      "outputs": []
    },
    {
      "cell_type": "markdown",
      "source": [
        "Example-1"
      ],
      "metadata": {
        "id": "D8koeSDNKaWc"
      }
    },
    {
      "cell_type": "markdown",
      "source": [
        "Swapping values"
      ],
      "metadata": {
        "id": "Rll8SjAbKbx2"
      }
    },
    {
      "cell_type": "code",
      "source": [
        "a = 10\n",
        "b = 20\n",
        "(a,b) = (b,a)\n",
        "a,b = b,a"
      ],
      "metadata": {
        "id": "scqV51r_Hh21"
      },
      "execution_count": null,
      "outputs": []
    },
    {
      "cell_type": "markdown",
      "source": [
        "## **6.4. Dictionary**"
      ],
      "metadata": {
        "id": "SvbT__r4Kd8l"
      }
    },
    {
      "cell_type": "markdown",
      "source": [
        "- stores the data in the form of key-value pair\n",
        "\n",
        "- key must be unique\n",
        "\n",
        "- keys in dictionary can be any immutable data str (list x)\n"
      ],
      "metadata": {
        "id": "s4DwiGNfN9iJ"
      }
    },
    {
      "cell_type": "markdown",
      "source": [
        "1. Defining Dictionaries"
      ],
      "metadata": {
        "id": "4DohxjCQOAe0"
      }
    },
    {
      "cell_type": "code",
      "source": [
        "a = {} #Empty dictionary\n",
        "\n",
        "profile = {\n",
        "    'name' : 'Raj',\n",
        "    'roll_no' : 90,\n",
        "    'subjects' : ['maths', 'english'],\n",
        "    'friends' : {\n",
        "        'Anil' : 'Android',\n",
        "        'Tarun' : 'React'\n",
        "    }\n",
        "}\n",
        "print(profile)\n",
        "\n",
        "d = dict(a=1, b=2)\n",
        "print(d)\n",
        "\n",
        "#to access data - using key\n",
        "print(profile['name'])\n",
        "print(profile['friends']['Anil'])"
      ],
      "metadata": {
        "id": "wvYsK-OxKUBM"
      },
      "execution_count": null,
      "outputs": []
    },
    {
      "cell_type": "markdown",
      "source": [
        "2. Example"
      ],
      "metadata": {
        "id": "XPKnXwpsOJQY"
      }
    },
    {
      "cell_type": "code",
      "source": [
        "d = {'India' : 'INR', 'USA' : 'Dollor', 'France' : 'Euros'}\n",
        "print(d['India'])\n",
        "\n",
        "#Replace the value for a key\n",
        "d['India'] = 'Rs'\n",
        "print(d['India'])\n",
        "\n",
        "#Insert new key value pair in dictionary\n",
        "d['Japan'] = 'Yen'\n",
        "\n",
        "#Deleting key value pair\n",
        "del d['France']\n",
        "print(d)"
      ],
      "metadata": {
        "id": "0A-vlRWxKT-k"
      },
      "execution_count": null,
      "outputs": []
    },
    {
      "cell_type": "markdown",
      "source": [
        "3. sorted"
      ],
      "metadata": {
        "id": "-vtnQNcJOVFq"
      }
    },
    {
      "cell_type": "markdown",
      "source": [
        "- return the list of keys in sorted manner\n",
        "\n",
        "- sorted() works on iterable only"
      ],
      "metadata": {
        "id": "MkBMME5mOWhJ"
      }
    },
    {
      "cell_type": "code",
      "source": [
        "d = {'India' : 'INR', 'USA' : 'Dollor', 'France' : 'Euros'}\n",
        "#check for sorted method\n",
        "\n",
        "#4. update()\n",
        "d = {'India' : 'INR', 'USA' : 'Dollor', 'France' : 'Euros'}\n",
        "d.update #chec once"
      ],
      "metadata": {
        "id": "SPxodIoxKT70"
      },
      "execution_count": null,
      "outputs": []
    },
    {
      "cell_type": "markdown",
      "source": [
        "5. Imp methods to iterate over dictionary"
      ],
      "metadata": {
        "id": "aKa7MtLCObBe"
      }
    },
    {
      "cell_type": "markdown",
      "source": [
        "5.i Accessing Keys and Values"
      ],
      "metadata": {
        "id": "REBOW-1uOg3u"
      }
    },
    {
      "cell_type": "markdown",
      "source": [
        "def values() -> dict_values[str, str]\n",
        "\n",
        "D.values() -> an object providing a view on D's values\n",
        "\n",
        "def keys() -> dict_keys[str, str]\n",
        "\n",
        "D.keys() -> a set-like object providing a view on D's keys"
      ],
      "metadata": {
        "id": "YEinsifQOii8"
      }
    },
    {
      "cell_type": "code",
      "source": [
        "d = {'India' : 'INR', 'USA' : 'Dollor', 'France' : 'Euros'}\n",
        "\n",
        "print(d.values())\n",
        "print(type(d.values())) #<class 'dict_values'>\n",
        "\n",
        "print(d.keys())\n",
        "print(type(d.keys())) #<class 'dict_keys'>\n",
        "\n",
        "print(sorted(list(d.values())))"
      ],
      "metadata": {
        "id": "l272guMIKT5i"
      },
      "execution_count": null,
      "outputs": []
    },
    {
      "cell_type": "markdown",
      "source": [
        "5.ii items()"
      ],
      "metadata": {
        "id": "oCSUDAW4Oq16"
      }
    },
    {
      "cell_type": "markdown",
      "source": [
        "It will create a tupe of pairs (key-value) inside dictonary\n"
      ],
      "metadata": {
        "id": "L0mvWUxoOsig"
      }
    },
    {
      "cell_type": "code",
      "source": [
        "d = {'India' : 'INR', 'USA' : 'Dollor', 'France' : 'Euros'}\n",
        "for i in d.items():\n",
        "    print(i)\n",
        "\n",
        "for key,val in d.items():\n",
        "    print(f\"{key}-{val}\")"
      ],
      "metadata": {
        "id": "BbZfY54XKT3R"
      },
      "execution_count": null,
      "outputs": []
    },
    {
      "cell_type": "markdown",
      "source": [
        "5. iii get()"
      ],
      "metadata": {
        "id": "qtX6-LPvOvxk"
      }
    },
    {
      "cell_type": "markdown",
      "source": [
        "to get a value\n",
        "\n",
        "if not found will through throw an error"
      ],
      "metadata": {
        "id": "BoAS-60_OxW5"
      }
    },
    {
      "cell_type": "code",
      "source": [
        "d = {'India' : 'INR', 'USA' : 'Dollor', 'France' : 'Euros'}\n",
        "print('India')\n",
        "\n",
        "d = { (1,2) : \"apple\" }\n",
        "print(d)"
      ],
      "metadata": {
        "id": "Kkb6alOWKT0x"
      },
      "execution_count": null,
      "outputs": []
    },
    {
      "cell_type": "markdown",
      "source": [
        "## **6.5. Sets**"
      ],
      "metadata": {
        "id": "qa0BjObMQYg9"
      }
    },
    {
      "cell_type": "markdown",
      "source": [
        "- unordered collection\n",
        "- using set you can test for membership, whether it is a subset of another set, find\n",
        "the intersection between and so on.\n",
        "- it is not meant to be iterated"
      ],
      "metadata": {
        "id": "inHUfluKQqhr"
      }
    },
    {
      "cell_type": "markdown",
      "source": [
        "1. Defination"
      ],
      "metadata": {
        "id": "20Pex6D4QtIJ"
      }
    },
    {
      "cell_type": "code",
      "source": [
        "s = {1, 2, 4, 2, 7}\n",
        "print(type(s))\n",
        "print(s)\n",
        "\n",
        "s = {} #this creates an empty dictionary not set\n",
        "s = set() #correct way"
      ],
      "metadata": {
        "id": "Az0yWiL3KTyU"
      },
      "execution_count": null,
      "outputs": []
    },
    {
      "cell_type": "markdown",
      "source": [
        "2. Interconversion: List - set"
      ],
      "metadata": {
        "id": "r0MriYvnQxZZ"
      }
    },
    {
      "cell_type": "code",
      "source": [
        "l = [2,5,8,7,2,5,2,2]\n",
        "s = set(l)\n",
        "print(s)"
      ],
      "metadata": {
        "id": "jmDgHPP9QlpR"
      },
      "execution_count": null,
      "outputs": []
    },
    {
      "cell_type": "markdown",
      "source": [
        "3. Length of set"
      ],
      "metadata": {
        "id": "y__vGsnZQ0WH"
      }
    },
    {
      "cell_type": "code",
      "source": [
        "s = {1,6,8,3,5,1}\n",
        "print(len(s))"
      ],
      "metadata": {
        "id": "egrEmTkTQlnV"
      },
      "execution_count": null,
      "outputs": []
    },
    {
      "cell_type": "markdown",
      "source": [
        "4. Add/ Remove elements"
      ],
      "metadata": {
        "id": "XBxV5k5JQ3ez"
      }
    },
    {
      "cell_type": "code",
      "source": [
        "s = {1,6,8,3,5}\n",
        "\n",
        "s.add(-7)\n",
        "print(s)\n",
        "\n",
        "s.remove(-1) #error: KeyError: -1\n",
        "s.remove(-1)\n",
        "print(s)"
      ],
      "metadata": {
        "id": "GiIY9DRIQlkx"
      },
      "execution_count": null,
      "outputs": []
    },
    {
      "cell_type": "markdown",
      "source": [
        "5. Mathematical Operations on set"
      ],
      "metadata": {
        "id": "-QJ2bGYzRCoy"
      }
    },
    {
      "cell_type": "markdown",
      "source": [
        "5. i intersection"
      ],
      "metadata": {
        "id": "UoFqDQVdREWp"
      }
    },
    {
      "cell_type": "markdown",
      "source": [
        "Returns the common elements of both the sets"
      ],
      "metadata": {
        "id": "geZKjOzzRGRB"
      }
    },
    {
      "cell_type": "code",
      "source": [
        "a = {1,4,6,7}\n",
        "b = {4,6,2,3}\n",
        "print(a&b)\n",
        "print(a.intersection(b)) #a && b"
      ],
      "metadata": {
        "id": "g1xR7ypwQlgd"
      },
      "execution_count": null,
      "outputs": []
    },
    {
      "cell_type": "markdown",
      "source": [
        "5. ii union"
      ],
      "metadata": {
        "id": "jPDhaKJUUWTF"
      }
    },
    {
      "cell_type": "markdown",
      "source": [
        "concatinates both the sets"
      ],
      "metadata": {
        "id": "Ql7czTESUYFy"
      }
    },
    {
      "cell_type": "code",
      "source": [
        "a = {1,4,6,7}\n",
        "b = {4,6,2,3}\n",
        "print(a.union(b)) #a | b"
      ],
      "metadata": {
        "id": "wOAKw0fzQleg"
      },
      "execution_count": null,
      "outputs": []
    },
    {
      "cell_type": "markdown",
      "source": [
        "5. iii a - b"
      ],
      "metadata": {
        "id": "0nLgpriwUcLL"
      }
    },
    {
      "cell_type": "markdown",
      "source": [
        "all values in set a, not in set b"
      ],
      "metadata": {
        "id": "K7vcbOCXUdj0"
      }
    },
    {
      "cell_type": "code",
      "source": [
        "a = {1,4,6,7}\n",
        "b = {4,6,2,3}\n",
        "print(a-b)\n",
        "print(a.difference(b))"
      ],
      "metadata": {
        "id": "jmBFtqeoUlMG"
      },
      "execution_count": null,
      "outputs": []
    },
    {
      "cell_type": "markdown",
      "source": [
        "5. iv set of uncommon elements"
      ],
      "metadata": {
        "id": "xmcQked1UgQr"
      }
    },
    {
      "cell_type": "markdown",
      "source": [
        "(a-(a&b)) + (b-(a&b))\n",
        "= a+b-2(a&b)"
      ],
      "metadata": {
        "id": "dWxywY7hUhxf"
      }
    },
    {
      "cell_type": "code",
      "source": [
        "a = {1,4,6,7}\n",
        "b = {4,6,2,3}\n",
        "print(a^b)"
      ],
      "metadata": {
        "id": "VWZtn5R-QlcX"
      },
      "execution_count": null,
      "outputs": []
    },
    {
      "cell_type": "markdown",
      "source": [
        "6. Iterating over a set"
      ],
      "metadata": {
        "id": "NGj0UHiBUrtH"
      }
    },
    {
      "cell_type": "code",
      "source": [
        "a = {1,4,6,7}\n",
        "a[4] #not allowed\n",
        "print(a[0]) #TypeError: 'set' object is not subscriptable\n",
        "\n",
        "a = {1,4,6,7}\n",
        "for i  in a:\n",
        "    print(i)"
      ],
      "metadata": {
        "id": "idkB1SqkQlZs"
      },
      "execution_count": null,
      "outputs": []
    },
    {
      "cell_type": "markdown",
      "source": [
        "Example"
      ],
      "metadata": {
        "id": "_CWBDkVHUvIO"
      }
    },
    {
      "cell_type": "markdown",
      "source": [
        "Given 2 lists, identify the common elements in both and return them in sorted manner\n"
      ],
      "metadata": {
        "id": "ssglYt6iUw9P"
      }
    },
    {
      "cell_type": "code",
      "source": [
        "l1 = {1,4,6,7}\n",
        "l2 = {4,6,2,3}\n",
        "\n",
        "s1 = set(l1)\n",
        "s2 = set(l2)\n",
        "\n",
        "s = s1&s2\n",
        "print(sorted(list(s)))"
      ],
      "metadata": {
        "id": "2DE7JAbeQlW8"
      },
      "execution_count": null,
      "outputs": []
    },
    {
      "cell_type": "code",
      "source": [],
      "metadata": {
        "id": "wizoqsuwQlUL"
      },
      "execution_count": null,
      "outputs": []
    },
    {
      "cell_type": "markdown",
      "source": [
        "## **7. List Comprehension**"
      ],
      "metadata": {
        "id": "tejp0LRo56Qc"
      }
    },
    {
      "cell_type": "code",
      "source": [
        "#increase the marks of every student by 2\n",
        "marks = [23, 12, 15, 18, 28, 28]\n",
        "new_marks = []\n",
        "for mark in marks:\n",
        "  new_marks.append(mark+2)\n",
        "print(new_marks)\n"
      ],
      "metadata": {
        "id": "AhK0sGJIUqQr"
      },
      "execution_count": null,
      "outputs": []
    },
    {
      "cell_type": "markdown",
      "source": [
        "[   `karna Kya hai?{expression}`  for   `kiske liye karna hai?{element}`  in `kaha jaake karna hai?{collection}` ]"
      ],
      "metadata": {
        "id": "cVQqk8mX8IqA"
      }
    },
    {
      "cell_type": "code",
      "source": [
        "marks = [23, 12, 15, 18, 28, 28]\n",
        "new_marks = [ mark+2 for mark in marks ]\n",
        "print(new_marks)"
      ],
      "metadata": {
        "id": "PZYlnUjKUqOa",
        "colab": {
          "base_uri": "https://localhost:8080/"
        },
        "outputId": "2365a0ce-e9fa-4a18-acdc-b708fbc2f304"
      },
      "execution_count": null,
      "outputs": [
        {
          "output_type": "stream",
          "name": "stdout",
          "text": [
            "[25, 14, 17, 20, 30, 30]\n"
          ]
        }
      ]
    },
    {
      "cell_type": "code",
      "source": [],
      "metadata": {
        "id": "wvGtBD-IUqL-"
      },
      "execution_count": null,
      "outputs": []
    },
    {
      "cell_type": "code",
      "source": [],
      "metadata": {
        "id": "sJeW-CTR50XE"
      },
      "execution_count": null,
      "outputs": []
    },
    {
      "cell_type": "markdown",
      "source": [
        "##**8. OOPS in Python**"
      ],
      "metadata": {
        "id": "gppW3oK0ic5l"
      }
    },
    {
      "cell_type": "markdown",
      "source": [
        "### 1. Object and Classes\n",
        "\n",
        "\n",
        "```\n",
        "class <class_name> :\n",
        "    pass\n",
        "\n",
        "obj = <class_name>()\n",
        "```\n",
        "\n",
        "In python, everything is treated as an object.\n",
        "\n",
        "```\n",
        "int, float, function, class  \n",
        "             |\n",
        "          object\n",
        "```\n",
        "\n",
        "is callable (True/False) that means, it creates an instance of the class\n",
        "\n",
        "             \n",
        "\n"
      ],
      "metadata": {
        "id": "DGGZl93IivNM"
      }
    },
    {
      "cell_type": "markdown",
      "source": [
        "### 2. Class methods()\n",
        "\n",
        "In python it is allowed to directly use class as abstract class, i.e we can directly use the function of the class without creating instance of that\n",
        "\n",
        "- \\_\\_init__() : constructor of class\n",
        "- self parameter : refers to the newly created instance fo the class\n",
        "- attributes length, breadth are associated with self keyword to identify them as instance\n"
      ],
      "metadata": {
        "id": "c7ztUg2ywUMT"
      }
    },
    {
      "cell_type": "code",
      "source": [
        "class Rectangle:\n",
        "    def __init__(self):\n",
        "      self.length = 10\n",
        "      self.breadth = 20\n",
        "\n",
        "#creating object\n",
        "obj = Rectangle()\n",
        "print(f\"Length: {obj.length} breadth: {obj.breadth}\")"
      ],
      "metadata": {
        "id": "pVF0dsbcUqJE",
        "colab": {
          "base_uri": "https://localhost:8080/"
        },
        "outputId": "384efa39-2c1c-4443-b7d8-90f42f25f22f"
      },
      "execution_count": null,
      "outputs": [
        {
          "output_type": "stream",
          "name": "stdout",
          "text": [
            "Length: 10 breadth: 20\n"
          ]
        }
      ]
    },
    {
      "cell_type": "code",
      "source": [
        "class Employee:\n",
        "  def __init__(self, name, empid):\n",
        "    self.name = name\n",
        "    self.empid = empid\n",
        "\n",
        "  def setSal(self, sal):\n",
        "    self.sal = sal\n",
        "\n",
        "  def getSal(self):\n",
        "    return self.sal\n",
        "\n",
        "e1 = Employee(\"Ramesh\",109)\n",
        "e1.setSal(90)\n",
        "print(f\"Name: {e1.name} | E.no: {e1.empid} | Salary: ${e1.getSal()}k\")\n",
        "\n",
        "e2 = Employee(\"Akhil\",262)\n",
        "e2.setSal(180)\n",
        "print(f\"Name: {e2.name} | E.no: {e2.empid} | Salary: ${e2.getSal()}k\")\n",
        "\n",
        "e3 = Employee() #TypeError: Employee.__init__() missing 2 required positional arguments: 'name' and 'empid'\n",
        "e3.setSal(70)\n",
        "print(f\"Name: {e3.name} | E.no: {e3.empid} | Salary: ${e3.getSal()}k\")"
      ],
      "metadata": {
        "colab": {
          "base_uri": "https://localhost:8080/",
          "height": 288
        },
        "id": "eeAURCeLtg_N",
        "outputId": "9ea51ca6-d274-42b7-eac6-95538c198589"
      },
      "execution_count": null,
      "outputs": [
        {
          "output_type": "stream",
          "name": "stdout",
          "text": [
            "Name: Ramesh | E.no: 109 | Salary: $90k\n",
            "Name: Akhil | E.no: 262 | Salary: $180k\n"
          ]
        },
        {
          "output_type": "error",
          "ename": "TypeError",
          "evalue": "Employee.__init__() missing 2 required positional arguments: 'name' and 'empid'",
          "traceback": [
            "\u001b[0;31m---------------------------------------------------------------------------\u001b[0m",
            "\u001b[0;31mTypeError\u001b[0m                                 Traceback (most recent call last)",
            "\u001b[0;32m<ipython-input-7-af9a45b893de>\u001b[0m in \u001b[0;36m<cell line: 20>\u001b[0;34m()\u001b[0m\n\u001b[1;32m     18\u001b[0m \u001b[0mprint\u001b[0m\u001b[0;34m(\u001b[0m\u001b[0;34mf\"Name: {e2.name} | E.no: {e2.empid} | Salary: ${e2.getSal()}k\"\u001b[0m\u001b[0;34m)\u001b[0m\u001b[0;34m\u001b[0m\u001b[0;34m\u001b[0m\u001b[0m\n\u001b[1;32m     19\u001b[0m \u001b[0;34m\u001b[0m\u001b[0m\n\u001b[0;32m---> 20\u001b[0;31m \u001b[0me3\u001b[0m \u001b[0;34m=\u001b[0m \u001b[0mEmployee\u001b[0m\u001b[0;34m(\u001b[0m\u001b[0;34m)\u001b[0m\u001b[0;34m\u001b[0m\u001b[0;34m\u001b[0m\u001b[0m\n\u001b[0m\u001b[1;32m     21\u001b[0m \u001b[0me3\u001b[0m\u001b[0;34m.\u001b[0m\u001b[0msetSal\u001b[0m\u001b[0;34m(\u001b[0m\u001b[0;36m70\u001b[0m\u001b[0;34m)\u001b[0m\u001b[0;34m\u001b[0m\u001b[0;34m\u001b[0m\u001b[0m\n\u001b[1;32m     22\u001b[0m \u001b[0mprint\u001b[0m\u001b[0;34m(\u001b[0m\u001b[0;34mf\"Name: {e3.name} | E.no: {e3.empid} | Salary: ${e3.getSal()}k\"\u001b[0m\u001b[0;34m)\u001b[0m\u001b[0;34m\u001b[0m\u001b[0;34m\u001b[0m\u001b[0m\n",
            "\u001b[0;31mTypeError\u001b[0m: Employee.__init__() missing 2 required positional arguments: 'name' and 'empid'"
          ]
        }
      ]
    },
    {
      "cell_type": "markdown",
      "source": [
        "### 3. Class variables and Instance variables"
      ],
      "metadata": {
        "id": "_IjiR_H6J9Rs"
      }
    },
    {
      "cell_type": "code",
      "source": [
        "class Car:\n",
        "  Year = 2023  #class variable\n",
        "  Country = \"India\"  #class variable\n",
        "\n",
        "  def __init__(self, name, carType):\n",
        "    self.name = name  #instance var\n",
        "    self.carType = carType\n",
        "\n",
        "creta = Car(\"Creta\",\"SUV\")\n",
        "city = Car(\"City\",\"Sedan\")\n",
        "\n",
        "print(f\"Car {creta.name}\")\n",
        "\n",
        "#to modify class variable\n",
        "Car.Year = 2024\n",
        "print(Car.Year)"
      ],
      "metadata": {
        "id": "0eFBjY-itgxd",
        "colab": {
          "base_uri": "https://localhost:8080/"
        },
        "outputId": "bb7e10aa-4405-46f7-bc80-ec1163f35021"
      },
      "execution_count": null,
      "outputs": [
        {
          "output_type": "stream",
          "name": "stdout",
          "text": [
            "Car Creta\n",
            "2024\n"
          ]
        }
      ]
    },
    {
      "cell_type": "markdown",
      "source": [
        "### 4. Methods()"
      ],
      "metadata": {
        "id": "b4SOYNpnMAdj"
      }
    },
    {
      "cell_type": "markdown",
      "source": [
        "**Self:**\n",
        "\n",
        "- Makes sure that each instance referes to it's own copy of attributes\n",
        "- The self keyboard in the **\\_\\_init__()** method has a different functionality of linking the elements defined in the class to the values passed as arguments while creating an instance to the class"
      ],
      "metadata": {
        "id": "z2x_zSy_MmiN"
      }
    },
    {
      "cell_type": "code",
      "source": [
        "class Rectangle:\n",
        "  def __init__(self, len, brt):\n",
        "    self.len = len\n",
        "    self.brt = brt\n",
        "\n",
        "  def calcArea(self):\n",
        "    return self.len * self.brt\n",
        "\n",
        "r1 = Rectangle(10, 20)\n",
        "print(f\"area: {r1.calcArea()}\")"
      ],
      "metadata": {
        "id": "3BSTlU_wtgt9",
        "colab": {
          "base_uri": "https://localhost:8080/"
        },
        "outputId": "a5c9f09b-b06f-47eb-95cd-7c02ec7eee71"
      },
      "execution_count": null,
      "outputs": [
        {
          "output_type": "stream",
          "name": "stdout",
          "text": [
            "area: 200\n"
          ]
        }
      ]
    },
    {
      "cell_type": "markdown",
      "source": [
        "### 5. Class Methods\n",
        "\n",
        "- Bound to class\n",
        "- Receives class object as the implicit 1st argument\n",
        "- Takes 'cls' parameter, which represents the class object\n",
        "- The object can be used to access and modify the class attributes\n",
        "- Cannot access the instance variables\n",
        "- Defined using @classmethod\n",
        "- Any change made using class method would apply to all instances of the class"
      ],
      "metadata": {
        "id": "-N-X35p7q7Dz"
      }
    },
    {
      "cell_type": "markdown",
      "source": [
        "### 6. Static Methods\n",
        "\n",
        "- Bound to class\n",
        "- Doest require any implicet 1st argument\n",
        "- Implementing functionality having logical connection to the class\n",
        "- Cannot access instance variables\n",
        "- Defined using @staticmethod"
      ],
      "metadata": {
        "id": "AfNtWre1rwle"
      }
    },
    {
      "cell_type": "code",
      "source": [
        "import math\n",
        "\n",
        "class Circle:\n",
        "  pi = 3.14\n",
        "  def __init__(self, radius):\n",
        "    self.radius = radius\n",
        "\n",
        "  #instance method\n",
        "  def calcArea(self):\n",
        "    return Circle.pi * math.pow(self.radius,2)\n",
        "\n",
        "  #class method\n",
        "  @classmethod\n",
        "  def accessPi(cls):\n",
        "    cls.pi = 3.1416\n",
        "    return cls.pi\n",
        "\n",
        "  #static method\n",
        "  @staticmethod\n",
        "  def circleStaticMethod():\n",
        "    print(\"this is static method\")\n",
        "\n",
        "\n",
        "c1 = Circle(4)\n",
        "print(\"c1.calcArea() - \",c1.calcArea())\n",
        "\n",
        "print(\"Circle.pi - \",Circle.pi)\n",
        "\n",
        "print(\"c1.pi - \",c1.pi)\n",
        "\n",
        "print(\"Circle.accessPi() - \",Circle.accessPi())\n",
        "\n",
        "print(\"Circle.pi - \",Circle.pi)"
      ],
      "metadata": {
        "id": "U9XJbMaItgq9",
        "colab": {
          "base_uri": "https://localhost:8080/"
        },
        "outputId": "649d2533-ea71-4797-8d55-5126367dbf22"
      },
      "execution_count": null,
      "outputs": [
        {
          "output_type": "stream",
          "name": "stdout",
          "text": [
            "c1.calcArea() -  50.24\n",
            "Circle.pi -  3.14\n",
            "c1.pi -  3.14\n",
            "Circle.accessPi() -  3.1416\n",
            "Circle.pi -  3.1416\n"
          ]
        }
      ]
    },
    {
      "cell_type": "markdown",
      "source": [
        "### 7. Dunders / Magic Methods\n",
        "\n",
        "Dunders allow Python to implement operator overloading, meaning that you can define how operators like +, -, and * work with your custom objects.\n",
        "\n",
        "Here are some common examples of dunders:\n",
        "\n",
        "- `__init__(Self)` : This is the constructor method, which is called when the object is created.\n",
        "\n",
        "- `__del__(self)` : When the object is deleted or thrown out of the memory (garbage collected) deliberately.\n",
        "\n",
        "- `__add__(self, other)`: This method defines how the + operator works for your object.\n",
        "  `\n",
        "  obj1 + obj2\n",
        "  `\n",
        "\n",
        "  `\n",
        "  obj1.__add__(obj2)\n",
        "  `\n",
        "\n",
        "\n",
        "- `__mul__`: This method defines how the * operator works for your object.\n",
        "\n",
        "- `__str__(self)`: This method defines how your object is represented as a string.\n",
        "`\n",
        "str(obj) or obj.__str__(obj)\n",
        "`\n",
        "\n",
        "\n",
        "- `__len__`: This method defines the length of your object\n",
        "\n",
        "- `__eq__(self, other)`: a == b, a.\\_\\_eq__(b)\n"
      ],
      "metadata": {
        "id": "g37NQJfBwSeg"
      }
    },
    {
      "cell_type": "markdown",
      "source": [
        "Life cycle of the object\n",
        "\n",
        "- created\n",
        "- deleted\n",
        "\n"
      ],
      "metadata": {
        "id": "Blj_pHGhCFOP"
      }
    },
    {
      "cell_type": "code",
      "source": [],
      "metadata": {
        "id": "zWZwGxE7tgn0"
      },
      "execution_count": null,
      "outputs": []
    },
    {
      "cell_type": "code",
      "source": [],
      "metadata": {
        "id": "w5j_UHCTtgaP"
      },
      "execution_count": null,
      "outputs": []
    },
    {
      "cell_type": "code",
      "source": [],
      "metadata": {
        "id": "RR8a0z-ENjDJ"
      },
      "execution_count": null,
      "outputs": []
    },
    {
      "cell_type": "markdown",
      "source": [
        "##**9. Multithreading in Python**"
      ],
      "metadata": {
        "id": "MZLaeDE8iVVA"
      }
    },
    {
      "cell_type": "code",
      "source": [
        "#p-1) simple code\n",
        "import time"
      ],
      "metadata": {
        "id": "ze3p5cb0Ni_l"
      },
      "execution_count": null,
      "outputs": []
    },
    {
      "cell_type": "code",
      "source": [
        "def calc_square(numbers):\n",
        "\tprint(\"calculating square\")\n",
        "\tfor n in numbers:\n",
        "\t\ttime.sleep(0.2) #cpu is idle\n",
        "\t\tprint(\"square: \", n*n)"
      ],
      "metadata": {
        "id": "ExyC6N7cj_wQ"
      },
      "execution_count": null,
      "outputs": []
    },
    {
      "cell_type": "code",
      "source": [
        "def calc_cube(numbers):\n",
        "\tprint(\"calculating cube\")\n",
        "\tfor n in numbers:\n",
        "\t\ttime.sleep(0.2)\n",
        "\t\tprint(\"cube: \", n*n*n)"
      ],
      "metadata": {
        "id": "mQ6CXRldj33P"
      },
      "execution_count": null,
      "outputs": []
    },
    {
      "cell_type": "code",
      "source": [
        "arr = [1,2,3]"
      ],
      "metadata": {
        "id": "cw_RkHSEj3mr"
      },
      "execution_count": null,
      "outputs": []
    },
    {
      "cell_type": "code",
      "source": [
        "t = time.time()\n",
        "calc_square(arr)\n",
        "calc_cube(arr)"
      ],
      "metadata": {
        "colab": {
          "base_uri": "https://localhost:8080/"
        },
        "id": "rcJHtnPBkGg-",
        "outputId": "b0af8ce5-e94c-4021-9ba0-f11b370df121"
      },
      "execution_count": null,
      "outputs": [
        {
          "output_type": "stream",
          "name": "stdout",
          "text": [
            "calculating square\n",
            "square:  1\n",
            "square:  4\n",
            "square:  9\n",
            "calculating cube\n",
            "cube:  1\n",
            "cube:  8\n",
            "cube:  27\n"
          ]
        }
      ]
    },
    {
      "cell_type": "code",
      "source": [
        "print(\"done in: \", time.time()-t) #1.2sec\n",
        "print(\"Exit\")"
      ],
      "metadata": {
        "colab": {
          "base_uri": "https://localhost:8080/"
        },
        "id": "UdU2XWX3j3X0",
        "outputId": "7cd2e6cb-f036-4a37-a543-849f8dbcf3b5"
      },
      "execution_count": null,
      "outputs": [
        {
          "output_type": "stream",
          "name": "stdout",
          "text": [
            "done in:  6.994403839111328\n",
            "Exit\n"
          ]
        }
      ]
    },
    {
      "cell_type": "code",
      "source": [
        "#p-2) multithreading code\n",
        "import time\n",
        "import threading\n",
        "\n",
        "def calc_square(numbers):\n",
        "\tprint(\"calculating square\")\n",
        "\tfor n in numbers:\n",
        "\t\ttime.sleep(0.2) #cpu is idle\n",
        "\t\tprint(\"square: \", n*n)\n",
        "\n",
        "def calc_cube(numbers):\n",
        "\tprint(\"calculating cube\")\n",
        "\tfor n in numbers:\n",
        "\t\ttime.sleep(0.2)\n",
        "\t\tprint(\"cube: \", n*n*n)\n",
        "\n",
        "numbers = [1,2,3]\n",
        "\n",
        "t = time.time()\n",
        "t1 = threading.Thread(target = calc_square, args = (numbers, ))\n",
        "t2 = threading.Thread(target = calc_cube, args = (numbers, ))\n",
        "\n",
        "t1.start()\n",
        "t2.start()\n",
        "\n",
        "t1.join()\n",
        "t2.join()\n",
        "\n",
        "print(\"done in: \", time.time()-t) #0.6sec\n",
        "print(\"Exit\")"
      ],
      "metadata": {
        "id": "qrb5XCw9Ni9K",
        "colab": {
          "base_uri": "https://localhost:8080/"
        },
        "outputId": "0691fd39-2a27-4a7b-e7c1-001a24be4645"
      },
      "execution_count": null,
      "outputs": [
        {
          "output_type": "stream",
          "name": "stdout",
          "text": [
            "calculating squarecalculating cube\n",
            "\n",
            "cube:  1\n",
            "square:  1\n",
            "cube:  8\n",
            "square:  4\n",
            "cube:  27\n",
            "square:  9\n",
            "done in:  0.6116631031036377\n",
            "Exit\n"
          ]
        }
      ]
    },
    {
      "cell_type": "code",
      "source": [],
      "metadata": {
        "id": "7OhtblaNj10C"
      },
      "execution_count": null,
      "outputs": []
    },
    {
      "cell_type": "code",
      "source": [],
      "metadata": {
        "id": "8auufLCLj1wu"
      },
      "execution_count": null,
      "outputs": []
    },
    {
      "cell_type": "code",
      "source": [],
      "metadata": {
        "id": "DyHqP9TRj1t6"
      },
      "execution_count": null,
      "outputs": []
    },
    {
      "cell_type": "code",
      "source": [],
      "metadata": {
        "id": "Sn2zqESZNi7A"
      },
      "execution_count": null,
      "outputs": []
    },
    {
      "cell_type": "code",
      "source": [],
      "metadata": {
        "id": "9oT5nP18Ni4Z"
      },
      "execution_count": null,
      "outputs": []
    },
    {
      "cell_type": "code",
      "source": [],
      "metadata": {
        "id": "ddCh_JLZNi12"
      },
      "execution_count": null,
      "outputs": []
    },
    {
      "cell_type": "code",
      "source": [],
      "metadata": {
        "id": "ROTdkCAvNizg"
      },
      "execution_count": null,
      "outputs": []
    },
    {
      "cell_type": "code",
      "source": [],
      "metadata": {
        "id": "IF4EaVMMNiwz"
      },
      "execution_count": null,
      "outputs": []
    },
    {
      "cell_type": "code",
      "source": [],
      "metadata": {
        "id": "wStsd59ujtMy"
      },
      "execution_count": null,
      "outputs": []
    },
    {
      "cell_type": "code",
      "source": [],
      "metadata": {
        "id": "VyhR61REjtJc"
      },
      "execution_count": null,
      "outputs": []
    },
    {
      "cell_type": "code",
      "source": [],
      "metadata": {
        "id": "HEYDjCkTjtG8"
      },
      "execution_count": null,
      "outputs": []
    }
  ]
}